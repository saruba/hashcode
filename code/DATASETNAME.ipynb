{
 "cells": [
  {
   "cell_type": "code",
   "execution_count": 2,
   "metadata": {},
   "outputs": [],
   "source": [
    "import pandas as pd\n",
    "import seaborn as sns\n",
    "import numpy as np\n",
    "import csv\n",
    "\n",
    "%load_ext autoreload\n",
    "%autoreload 2"
   ]
  },
  {
   "cell_type": "code",
   "execution_count": 3,
   "metadata": {},
   "outputs": [],
   "source": [
    "DATASET = ''\n",
    "INPUT_PATH = 'input'\n",
    "OUTPUT_PATH = 'output'\n",
    "OUTPUT_FILENAME = OUTPUT_PATH + '/' + DATASET + '.out'\n",
    "INPUT_FILENAME = INPUT_PATH + '/' + DATASET + '.in'"
   ]
  },
  {
   "cell_type": "code",
   "execution_count": 4,
   "metadata": {},
   "outputs": [],
   "source": [
    "class Input:\n",
    "    def __init__(self):\n",
    "        self.cursor = 0\n",
    "        self.rows = self.read_csv()\n",
    "        \n",
    "    def parse(self):\n",
    "        pass\n",
    "        \n",
    "    def read_csv(self):\n",
    "        f = open(INPUT_FILENAME, 'r')\n",
    "        reader = csv.reader(f, delimiter=' ')\n",
    "        rows = []\n",
    "        for row in reader:\n",
    "            rows.append([int(r) for r in row])\n",
    "        f.close()\n",
    "        return rows\n",
    "    \n",
    "    def read_row(self):\n",
    "        row = self.rows[self.cursor]\n",
    "        self.cursor += 1\n",
    "        return row\n",
    "    \n",
    "    def skip_rows(self, count):\n",
    "        self.cursor += count"
   ]
  },
  {
   "cell_type": "code",
   "execution_count": null,
   "metadata": {},
   "outputs": [],
   "source": [
    "class Ouput:\n",
    "    def dump(self, parameters)\n",
    "        content = self.build(parameters)\n",
    "        self.write(content)\n",
    "    \n",
    "    def build(self, parameters):\n",
    "        pass\n",
    "\n",
    "    def write(self, output):\n",
    "        f = open(OUTPUT_FILENAME, 'w')\n",
    "        f.write(output)\n",
    "        f.close()"
   ]
  }
 ],
 "metadata": {
  "kernelspec": {
   "display_name": "Python 3",
   "language": "python",
   "name": "python3"
  },
  "language_info": {
   "codemirror_mode": {
    "name": "ipython",
    "version": 3
   },
   "file_extension": ".py",
   "mimetype": "text/x-python",
   "name": "python",
   "nbconvert_exporter": "python",
   "pygments_lexer": "ipython3",
   "version": "3.7.1"
  }
 },
 "nbformat": 4,
 "nbformat_minor": 2
}
