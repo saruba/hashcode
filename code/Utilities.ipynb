{
 "cells": [
  {
   "cell_type": "code",
   "execution_count": 6,
   "metadata": {},
   "outputs": [
    {
     "name": "stdout",
     "output_type": "stream",
     "text": [
      "The autoreload extension is already loaded. To reload it, use:\n",
      "  %reload_ext autoreload\n"
     ]
    }
   ],
   "source": [
    "import pandas as pd\n",
    "import seaborn as sns\n",
    "import numpy as np\n",
    "import csv\n",
    "\n",
    "from utils.utils import take\n",
    "\n",
    "%load_ext autoreload\n",
    "%autoreload 2"
   ]
  },
  {
   "cell_type": "markdown",
   "metadata": {},
   "source": [
    "### Limit array to a number"
   ]
  },
  {
   "cell_type": "code",
   "execution_count": 10,
   "metadata": {},
   "outputs": [
    {
     "data": {
      "text/plain": [
       "['A', 'B', 'C']"
      ]
     },
     "execution_count": 10,
     "metadata": {},
     "output_type": "execute_result"
    }
   ],
   "source": [
    "from utils.utils import take\n",
    "\n",
    "letters = ['A', 'B', 'C', 'D', 'E', 'F']\n",
    "\n",
    "take(letters, 3)"
   ]
  },
  {
   "cell_type": "markdown",
   "metadata": {},
   "source": [
    "### Slice an array into batches"
   ]
  },
  {
   "cell_type": "code",
   "execution_count": 20,
   "metadata": {},
   "outputs": [
    {
     "data": {
      "text/plain": [
       "[['A', 'B', 'C'], ['D', 'E', 'F'], ['G']]"
      ]
     },
     "execution_count": 20,
     "metadata": {},
     "output_type": "execute_result"
    }
   ],
   "source": [
    "from utils.utils import chunks\n",
    "\n",
    "letters = ['A', 'B', 'C', 'D', 'E', 'F', 'G']\n",
    "\n",
    "chunks(letters, 3)"
   ]
  },
  {
   "cell_type": "markdown",
   "metadata": {},
   "source": [
    "### Check if subset of an array"
   ]
  },
  {
   "cell_type": "code",
   "execution_count": 26,
   "metadata": {},
   "outputs": [
    {
     "name": "stdout",
     "output_type": "stream",
     "text": [
      "True\n",
      "False\n"
     ]
    }
   ],
   "source": [
    "from utils.utils import contains\n",
    "\n",
    "letters = ['A', 'B', 'C', 'D', 'E', 'F', 'G']\n",
    "\n",
    "print(contains(letters, ['C', 'F']))\n",
    "print(contains(letters, ['X', 'A']))"
   ]
  },
  {
   "cell_type": "markdown",
   "metadata": {},
   "source": [
    "### Has same elements"
   ]
  },
  {
   "cell_type": "code",
   "execution_count": 29,
   "metadata": {},
   "outputs": [
    {
     "name": "stdout",
     "output_type": "stream",
     "text": [
      "True\n",
      "False\n",
      "False\n",
      "True\n"
     ]
    }
   ],
   "source": [
    "from utils.utils import have_same_elements        \n",
    "\n",
    "letters = ['A', 'B', 'C', 'D', 'E', 'F', 'G']\n",
    "\n",
    "print(have_same_elements(['A', 'C', 'D', 'F', 'G', 'E', 'B'], letters))\n",
    "print(have_same_elements(['C', 'D', 'E', 'B', 'B', 'B', 'B'], letters))\n",
    "print(have_same_elements(['A', 'B', 'C', 'D', 'E', 'F', 'G', 'H'], letters))\n",
    "print(have_same_elements([], []))"
   ]
  },
  {
   "cell_type": "markdown",
   "metadata": {},
   "source": [
    "### Occurrences in list"
   ]
  },
  {
   "cell_type": "code",
   "execution_count": 34,
   "metadata": {},
   "outputs": [
    {
     "data": {
      "text/plain": [
       "{'B': 4, 'C': 1, 'D': 1, 'E': 1}"
      ]
     },
     "execution_count": 34,
     "metadata": {},
     "output_type": "execute_result"
    }
   ],
   "source": [
    "from utils.utils import occurrences\n",
    "\n",
    "occurrences(['C', 'D', 'E', 'B', 'B', 'B', 'B'])"
   ]
  },
  {
   "cell_type": "markdown",
   "metadata": {},
   "source": [
    "### Available in list"
   ]
  },
  {
   "cell_type": "code",
   "execution_count": 33,
   "metadata": {},
   "outputs": [
    {
     "name": "stdout",
     "output_type": "stream",
     "text": [
      "True\n",
      "True\n",
      "True\n",
      "False\n"
     ]
    }
   ],
   "source": [
    "from utils.utils import available_in\n",
    "    \n",
    "stock = ['A', 'B', 'C', 'A', 'A', 'A', 'B']\n",
    "\n",
    "print(available_in(stock, ['B']))\n",
    "print(available_in(stock, ['A', 'B']))\n",
    "print(available_in(stock, ['A', 'A', 'B']))\n",
    "print(available_in(stock, ['A', 'C', 'C']))"
   ]
  },
  {
   "cell_type": "markdown",
   "metadata": {},
   "source": [
    "### Filter items in a list"
   ]
  },
  {
   "cell_type": "code",
   "execution_count": 39,
   "metadata": {},
   "outputs": [
    {
     "name": "stdout",
     "output_type": "stream",
     "text": [
      "[{'name': 'Sam', 'age': 15}, {'name': 'Leo', 'age': 30}]\n",
      "[{'name': 'Sam', 'age': 15}, {'name': 'Marta', 'age': 12}]\n"
     ]
    }
   ],
   "source": [
    "from utils.utils import filter_list\n",
    "\n",
    "students = [{'name': 'Sam', 'age': 15}, {'name': 'Leo', 'age': 30}, {'name': 'Marta', 'age': 12}]\n",
    "\n",
    "print(filter_list(lambda student: student['age'] > 12, students))\n",
    "print(filter_list(lambda student: student['name'] != 'Leo', students))"
   ]
  },
  {
   "cell_type": "markdown",
   "metadata": {},
   "source": [
    "### Sort items ascending by a key"
   ]
  },
  {
   "cell_type": "code",
   "execution_count": 45,
   "metadata": {},
   "outputs": [
    {
     "name": "stdout",
     "output_type": "stream",
     "text": [
      "By age [{'name': 'Marta', 'age': 12}, {'name': 'Sam', 'age': 15}, {'name': 'Leo', 'age': 30}]\n",
      "By name [{'name': 'Leo', 'age': 30}, {'name': 'Marta', 'age': 12}, {'name': 'Sam', 'age': 15}]\n"
     ]
    }
   ],
   "source": [
    "students = [{'name': 'Sam', 'age': 15}, {'name': 'Leo', 'age': 30}, {'name': 'Marta', 'age': 12}]\n",
    "\n",
    "print('By age', sorted(students, key=lambda student: student['age']))\n",
    "print('By name', sorted(students, key=lambda student: student['name']))"
   ]
  },
  {
   "cell_type": "markdown",
   "metadata": {},
   "source": [
    "### Sort items descending by a key"
   ]
  },
  {
   "cell_type": "code",
   "execution_count": 46,
   "metadata": {},
   "outputs": [
    {
     "name": "stdout",
     "output_type": "stream",
     "text": [
      "By age [{'name': 'Leo', 'age': 30}, {'name': 'Sam', 'age': 15}, {'name': 'Marta', 'age': 12}]\n",
      "By name [{'name': 'Sam', 'age': 15}, {'name': 'Marta', 'age': 12}, {'name': 'Leo', 'age': 30}]\n"
     ]
    }
   ],
   "source": [
    "students = [{'name': 'Sam', 'age': 15}, {'name': 'Leo', 'age': 30}, {'name': 'Marta', 'age': 12}]\n",
    "\n",
    "print('By age', sorted(students, key=lambda student: student['age'], reverse=True))\n",
    "print('By name', sorted(students, key=lambda student: student['name'], reverse=True))"
   ]
  },
  {
   "cell_type": "markdown",
   "metadata": {},
   "source": [
    "### Iterate items in a dictionary ordered by value"
   ]
  },
  {
   "cell_type": "code",
   "execution_count": 51,
   "metadata": {},
   "outputs": [
    {
     "name": "stdout",
     "output_type": "stream",
     "text": [
      "index: 3 value: 150\n",
      "index: 2 value: 140\n",
      "index: 0 value: 120\n",
      "index: 1 value: 15\n"
     ]
    }
   ],
   "source": [
    "popularity = {0: 120, 1:15, 2: 140, 3: 150}\n",
    "\n",
    "for index, value in sorted(popularity.items(), key=lambda item: (item[1], item[0]), reverse=True):\n",
    "    print('index:', index, 'value:', value)\n"
   ]
  },
  {
   "cell_type": "code",
   "execution_count": 54,
   "metadata": {},
   "outputs": [
    {
     "name": "stdout",
     "output_type": "stream",
     "text": [
      "index: 3 value: {'count': 150}\n",
      "index: 2 value: {'count': 140}\n",
      "index: 0 value: {'count': 120}\n",
      "index: 1 value: {'count': 15}\n"
     ]
    }
   ],
   "source": [
    "popularity = {0: {'count': 120}, 1: {'count': 15}, 2: {'count': 140}, 3: {'count': 150}}\n",
    "\n",
    "for index, value in sorted(popularity.items(), key=lambda item: (item[1]['count'], item[0]) , reverse=True):\n",
    "    print('index:', index, 'value:', value)\n"
   ]
  },
  {
   "cell_type": "code",
   "execution_count": null,
   "metadata": {},
   "outputs": [],
   "source": []
  }
 ],
 "metadata": {
  "kernelspec": {
   "display_name": "Python 3",
   "language": "python",
   "name": "python3"
  },
  "language_info": {
   "codemirror_mode": {
    "name": "ipython",
    "version": 3
   },
   "file_extension": ".py",
   "mimetype": "text/x-python",
   "name": "python",
   "nbconvert_exporter": "python",
   "pygments_lexer": "ipython3",
   "version": "3.7.1"
  }
 },
 "nbformat": 4,
 "nbformat_minor": 2
}
