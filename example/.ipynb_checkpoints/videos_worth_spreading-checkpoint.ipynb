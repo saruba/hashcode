{
 "cells": [
  {
   "cell_type": "code",
   "execution_count": 4,
   "metadata": {},
   "outputs": [],
   "source": [
    "import pandas as pd\n",
    "import seaborn as sns\n",
    "import numpy as np\n",
    "import csv\n",
    "\n",
    "%load_ext autoreload\n",
    "%autoreload 2"
   ]
  },
  {
   "cell_type": "code",
   "execution_count": 5,
   "metadata": {},
   "outputs": [],
   "source": [
    "DATASET = 'me_at_the_zoo'\n",
    "INPUT_PATH = 'input'\n",
    "OUTPUT_PATH = 'output'\n",
    "OUTPUT_FILENAME = OUTPUT_PATH + '/' + DATASET + '.out'\n",
    "INPUT_FILENAME = INPUT_PATH + '/' + DATASET + '.in'"
   ]
  },
  {
   "cell_type": "code",
   "execution_count": 20,
   "metadata": {},
   "outputs": [],
   "source": [
    "class Input:\n",
    "    def __init__(self):\n",
    "        self.cursor = 0\n",
    "        self.rows = self.read_csv()\n",
    "        \n",
    "    def parse(self):\n",
    "        header = self.read_header()\n",
    "        self.read_videos()\n",
    "        self.read_endpoints(header['endpoints'])\n",
    "\n",
    "        return {\n",
    "            'header': header\n",
    "        }\n",
    "        \n",
    "    def read_csv(self):\n",
    "        f = open(INPUT_FILENAME, 'r')\n",
    "        reader = csv.reader(f, delimiter=' ')\n",
    "        rows = []\n",
    "        for row in reader:\n",
    "            rows.append([int(r) for r in row])\n",
    "        f.close()\n",
    "        return rows\n",
    "    \n",
    "    def read_row(self):\n",
    "        row = self.rows[self.cursor]\n",
    "        self.cursor += 1\n",
    "        return row\n",
    "    \n",
    "    def skip_rows(self, count):\n",
    "        self.cursor += count\n",
    "    \n",
    "    def read_header(self):\n",
    "        videos, endpoints, requests, caches, capacity = self.read_row()\n",
    "        return {\n",
    "            'videos': videos,\n",
    "            'endpoints': endpoints,\n",
    "            'requests': requests,\n",
    "            'caches': caches,\n",
    "            'capacity': capacity\n",
    "           }\n",
    "    \n",
    "    def read_videos(self):\n",
    "        self.skip_rows(1)\n",
    "    \n",
    "    def read_endpoints(self, endpoint_count):\n",
    "        for e in range(endpoint_count):\n",
    "            _, caches_count = self.read_row()\n",
    "            self.skip_rows(caches_count)\n",
    "    "
   ]
  },
  {
   "cell_type": "code",
   "execution_count": 21,
   "metadata": {},
   "outputs": [
    {
     "data": {
      "text/plain": [
       "{'header': {'videos': 100,\n",
       "  'endpoints': 10,\n",
       "  'requests': 100,\n",
       "  'caches': 10,\n",
       "  'capacity': 100}}"
      ]
     },
     "execution_count": 21,
     "metadata": {},
     "output_type": "execute_result"
    }
   ],
   "source": [
    "inputs = Input().parse()\n",
    "inputs"
   ]
  },
  {
   "cell_type": "code",
   "execution_count": null,
   "metadata": {},
   "outputs": [],
   "source": [
    "class Ouput:\n",
    "    def dump(self, parameters)\n",
    "        content = self.build(parameters)\n",
    "        self.write(content)\n",
    "    \n",
    "    def build(self, parameters):\n",
    "        pass\n",
    "\n",
    "    def write(self, output):\n",
    "        f = open(OUTPUT_FILENAME, 'w')\n",
    "        f.write(output)\n",
    "        f.close()"
   ]
  }
 ],
 "metadata": {
  "kernelspec": {
   "display_name": "Python 3",
   "language": "python",
   "name": "python3"
  },
  "language_info": {
   "codemirror_mode": {
    "name": "ipython",
    "version": 3
   },
   "file_extension": ".py",
   "mimetype": "text/x-python",
   "name": "python",
   "nbconvert_exporter": "python",
   "pygments_lexer": "ipython3",
   "version": "3.7.1"
  }
 },
 "nbformat": 4,
 "nbformat_minor": 2
}
