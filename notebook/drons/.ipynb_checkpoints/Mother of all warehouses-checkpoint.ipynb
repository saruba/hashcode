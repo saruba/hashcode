{
 "cells": [
  {
   "cell_type": "code",
   "execution_count": 8,
   "metadata": {},
   "outputs": [
    {
     "name": "stdout",
     "output_type": "stream",
     "text": [
      "CPU times: user 5 µs, sys: 0 ns, total: 5 µs\n",
      "Wall time: 11 µs\n"
     ]
    }
   ],
   "source": [
    "%time"
   ]
  },
  {
   "cell_type": "code",
   "execution_count": null,
   "metadata": {},
   "outputs": [],
   "source": [
    "import pandas as pd\n",
    "import seaborn as sns\n",
    "import numpy as np\n",
    "import csv"
   ]
  },
  {
   "cell_type": "code",
   "execution_count": 2,
   "metadata": {},
   "outputs": [],
   "source": [
    "DATASET_URL = 'input/mother_of_all_warehouses.in'\n",
    "\n",
    "class Input:\n",
    "    def __init__(self):\n",
    "        self.cursor = 0\n",
    "        self.rows = self.read_csv()\n",
    "        \n",
    "    def parse(self):\n",
    "        self.read_headers()\n",
    "        self.read_products()\n",
    "        self.read_warehouses()\n",
    "        orders = self.read_orders()\n",
    "\n",
    "        return orders\n",
    "        \n",
    "    def read_headers(self):\n",
    "        self.skip_rows(1)\n",
    "    \n",
    "    def read_products(self):\n",
    "        self.skip_rows(2)\n",
    "    \n",
    "    def read_warehouses(self):\n",
    "        self.skip_rows(3)\n",
    "    \n",
    "    def read_orders(self):\n",
    "        orders_count = self.read_row()[0]\n",
    "        orders = []\n",
    "        for i in np.arange(0, orders_count):\n",
    "            x, y = self.read_row()\n",
    "            items_count = self.read_row()[0]\n",
    "            product_items = self.read_row()\n",
    "            orders.append({\n",
    "                'order_id': i,\n",
    "                'position': (x, y),\n",
    "                'items_count': items_count,\n",
    "                'product_items': product_items\n",
    "            })\n",
    "        return orders\n",
    "        \n",
    "        \n",
    "        \n",
    "    def read_csv(self):\n",
    "        f = open(DATASET_URL, 'r')\n",
    "        reader = csv.reader(f, delimiter=' ')\n",
    "        rows = []\n",
    "        for row in reader:\n",
    "            rows.append([int(r) for r in row])\n",
    "        f.close()\n",
    "        return rows\n",
    "    \n",
    "    def read_row(self):\n",
    "        row = self.rows[self.cursor]\n",
    "        self.cursor += 1\n",
    "        return row\n",
    "    \n",
    "    def skip_rows(self, count):\n",
    "        self.cursor += count\n",
    "\n",
    "orders = Input().parse()"
   ]
  },
  {
   "cell_type": "code",
   "execution_count": 3,
   "metadata": {},
   "outputs": [
    {
     "data": {
      "text/plain": [
       "23"
      ]
     },
     "execution_count": 3,
     "metadata": {},
     "output_type": "execute_result"
    }
   ],
   "source": [
    "len(list(filter(lambda order: order['items_count'] == 1, orders)))"
   ]
  },
  {
   "cell_type": "code",
   "execution_count": 4,
   "metadata": {},
   "outputs": [
    {
     "data": {
      "text/plain": [
       "[{'order_id': 20,\n",
       "  'position': (150, 242),\n",
       "  'items_count': 1,\n",
       "  'product_items': [48]},\n",
       " {'order_id': 73,\n",
       "  'position': (129, 284),\n",
       "  'items_count': 1,\n",
       "  'product_items': [350]},\n",
       " {'order_id': 124,\n",
       "  'position': (94, 219),\n",
       "  'items_count': 1,\n",
       "  'product_items': [404]},\n",
       " {'order_id': 172,\n",
       "  'position': (153, 109),\n",
       "  'items_count': 1,\n",
       "  'product_items': [659]},\n",
       " {'order_id': 175,\n",
       "  'position': (77, 217),\n",
       "  'items_count': 1,\n",
       "  'product_items': [558]},\n",
       " {'order_id': 191,\n",
       "  'position': (128, 167),\n",
       "  'items_count': 1,\n",
       "  'product_items': [862]},\n",
       " {'order_id': 216,\n",
       "  'position': (31, 205),\n",
       "  'items_count': 1,\n",
       "  'product_items': [452]},\n",
       " {'order_id': 231,\n",
       "  'position': (66, 155),\n",
       "  'items_count': 1,\n",
       "  'product_items': [684]},\n",
       " {'order_id': 233,\n",
       "  'position': (134, 158),\n",
       "  'items_count': 1,\n",
       "  'product_items': [233]},\n",
       " {'order_id': 297,\n",
       "  'position': (118, 232),\n",
       "  'items_count': 1,\n",
       "  'product_items': [338]},\n",
       " {'order_id': 326,\n",
       "  'position': (101, 81),\n",
       "  'items_count': 1,\n",
       "  'product_items': [683]},\n",
       " {'order_id': 338,\n",
       "  'position': (75, 249),\n",
       "  'items_count': 1,\n",
       "  'product_items': [548]},\n",
       " {'order_id': 371,\n",
       "  'position': (133, 109),\n",
       "  'items_count': 1,\n",
       "  'product_items': [759]},\n",
       " {'order_id': 465,\n",
       "  'position': (62, 193),\n",
       "  'items_count': 1,\n",
       "  'product_items': [889]},\n",
       " {'order_id': 503,\n",
       "  'position': (183, 218),\n",
       "  'items_count': 1,\n",
       "  'product_items': [277]},\n",
       " {'order_id': 504,\n",
       "  'position': (129, 308),\n",
       "  'items_count': 1,\n",
       "  'product_items': [992]},\n",
       " {'order_id': 531,\n",
       "  'position': (171, 235),\n",
       "  'items_count': 1,\n",
       "  'product_items': [653]},\n",
       " {'order_id': 559,\n",
       "  'position': (96, 178),\n",
       "  'items_count': 1,\n",
       "  'product_items': [382]},\n",
       " {'order_id': 568,\n",
       "  'position': (145, 152),\n",
       "  'items_count': 1,\n",
       "  'product_items': [228]},\n",
       " {'order_id': 706,\n",
       "  'position': (105, 197),\n",
       "  'items_count': 1,\n",
       "  'product_items': [615]}]"
      ]
     },
     "execution_count": 4,
     "metadata": {},
     "output_type": "execute_result"
    }
   ],
   "source": [
    "doable_orders = list(filter(lambda order: order['items_count'] == 1, orders))[:20]\n",
    "doable_orders"
   ]
  },
  {
   "cell_type": "code",
   "execution_count": 5,
   "metadata": {},
   "outputs": [
    {
     "name": "stdout",
     "output_type": "stream",
     "text": [
      "[[0, 'L', 0, 48, 1], [0, 'D', 20, 48, 1], [1, 'L', 0, 350, 1], [1, 'D', 73, 350, 1], [2, 'L', 0, 404, 1], [2, 'D', 124, 404, 1], [3, 'L', 0, 659, 1], [3, 'D', 172, 659, 1], [4, 'L', 0, 558, 1], [4, 'D', 175, 558, 1], [5, 'L', 0, 862, 1], [5, 'D', 191, 862, 1], [6, 'L', 0, 452, 1], [6, 'D', 216, 452, 1], [7, 'L', 0, 684, 1], [7, 'D', 231, 684, 1], [8, 'L', 0, 233, 1], [8, 'D', 233, 233, 1], [9, 'L', 0, 338, 1], [9, 'D', 297, 338, 1], [10, 'L', 0, 683, 1], [10, 'D', 326, 683, 1], [11, 'L', 0, 548, 1], [11, 'D', 338, 548, 1], [12, 'L', 0, 759, 1], [12, 'D', 371, 759, 1], [13, 'L', 0, 889, 1], [13, 'D', 465, 889, 1], [14, 'L', 0, 277, 1], [14, 'D', 503, 277, 1], [15, 'L', 0, 992, 1], [15, 'D', 504, 992, 1], [16, 'L', 0, 653, 1], [16, 'D', 531, 653, 1], [17, 'L', 0, 382, 1], [17, 'D', 559, 382, 1], [18, 'L', 0, 228, 1], [18, 'D', 568, 228, 1], [19, 'L', 0, 615, 1], [19, 'D', 706, 615, 1]]\n"
     ]
    }
   ],
   "source": [
    "commands = []\n",
    "warehouse_id = 0\n",
    "\n",
    "for drone_id, order in enumerate(doable_orders):\n",
    "    the_product_type = order['product_items'][0]\n",
    "    count = 1\n",
    "    load_command = [drone_id, 'L', warehouse_id, the_product_type, count]\n",
    "    delivery_command = [drone_id, 'D', order['order_id'], the_product_type, count]\n",
    "    commands.append(load_command)\n",
    "    commands.append(delivery_command)\n",
    "    \n",
    "print(commands)\n",
    "    "
   ]
  },
  {
   "cell_type": "code",
   "execution_count": 6,
   "metadata": {},
   "outputs": [],
   "source": [
    "def build_output(commands):\n",
    "    output = ''\n",
    "    output += str(len(commands)) + '\\n'\n",
    "    for command in commands:\n",
    "        output += ' '.join(map(str,command)) + '\\n'\n",
    "    return output\n",
    "\n",
    "\n",
    "OUTPUT_URL = 'output.out'\n",
    "def write_output(output):\n",
    "    f = open(OUTPUT_URL, 'w')\n",
    "    f.write(output)\n",
    "    f.close()\n",
    "\n",
    "output = build_output(commands)\n",
    "write_output(output)    "
   ]
  },
  {
   "cell_type": "code",
   "execution_count": null,
   "metadata": {},
   "outputs": [],
   "source": []
  }
 ],
 "metadata": {
  "kernelspec": {
   "display_name": "Python 3",
   "language": "python",
   "name": "python3"
  },
  "language_info": {
   "codemirror_mode": {
    "name": "ipython",
    "version": 3
   },
   "file_extension": ".py",
   "mimetype": "text/x-python",
   "name": "python",
   "nbconvert_exporter": "python",
   "pygments_lexer": "ipython3",
   "version": "3.7.0"
  }
 },
 "nbformat": 4,
 "nbformat_minor": 2
}
